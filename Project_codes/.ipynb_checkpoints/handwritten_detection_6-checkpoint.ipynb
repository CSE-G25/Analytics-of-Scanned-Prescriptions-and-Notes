{
 "cells": [
  {
   "cell_type": "code",
   "execution_count": 1,
   "id": "07e4b4ca",
   "metadata": {},
   "outputs": [
    {
     "name": "stderr",
     "output_type": "stream",
     "text": [
      "2022-02-19 15:20:05.555857: W tensorflow/stream_executor/platform/default/dso_loader.cc:64] Could not load dynamic library 'libcudart.so.11.0'; dlerror: libcudart.so.11.0: cannot open shared object file: No such file or directory\n",
      "2022-02-19 15:20:05.555900: I tensorflow/stream_executor/cuda/cudart_stub.cc:29] Ignore above cudart dlerror if you do not have a GPU set up on your machine.\n"
     ]
    }
   ],
   "source": [
    "from tensorflow.keras.layers.experimental.preprocessing import StringLookup\n",
    "from tensorflow import keras\n",
    "\n",
    "import matplotlib.pyplot as plt\n",
    "import tensorflow as tf\n",
    "import numpy as np\n",
    "import os\n",
    "\n",
    "np.random.seed(42)\n",
    "tf.random.set_seed(42)"
   ]
  },
  {
   "cell_type": "code",
   "execution_count": 2,
   "id": "6099cad9",
   "metadata": {},
   "outputs": [],
   "source": [
    "base_path = \"data\"\n",
    "words_list = []"
   ]
  },
  {
   "cell_type": "code",
   "execution_count": 3,
   "id": "806b6ce2",
   "metadata": {},
   "outputs": [],
   "source": [
    "\n",
    "\n",
    "words = open(f\"{base_path}/words.txt\", \"r\").readlines()\n",
    "\n"
   ]
  },
  {
   "cell_type": "code",
   "execution_count": 4,
   "id": "9d085864",
   "metadata": {},
   "outputs": [
    {
     "name": "stdout",
     "output_type": "stream",
     "text": [
      "['#--- words.txt ---------------------------------------------------------------#\\n', '#\\n', '# iam database word information\\n', '#\\n', '# format: a01-000u-00-00 ok 154 1 408 768 27 51 AT A\\n', '#\\n', '#     a01-000u-00-00  -> word id for line 00 in form a01-000u\\n', '#     ok              -> result of word segmentation\\n', '#                            ok: word was correctly\\n', '#                            er: segmentation of word can be bad\\n']\n"
     ]
    }
   ],
   "source": [
    "print(words[0:10])"
   ]
  },
  {
   "cell_type": "code",
   "execution_count": 5,
   "id": "7c2a6622",
   "metadata": {},
   "outputs": [],
   "source": [
    "#print(words[0:10])\n",
    "for line in words:\n",
    "    if line[0] == \"#\":\n",
    "        continue\n",
    "    if line.split(\" \")[1] != \"err\":  # We don't need to deal with errored entries.\n",
    "        words_list.append(line)\n",
    "\n",
    "len(words_list)\n",
    "\n",
    "np.random.shuffle(words_list)"
   ]
  },
  {
   "cell_type": "code",
   "execution_count": 6,
   "id": "9b89b8a1",
   "metadata": {},
   "outputs": [
    {
     "name": "stdout",
     "output_type": "stream",
     "text": [
      "e04-030-04-08 ok 170 1489 1499 120 39 JJ sure\n",
      "\n"
     ]
    }
   ],
   "source": [
    "print(words_list[0])"
   ]
  },
  {
   "cell_type": "code",
   "execution_count": 7,
   "id": "073c7941",
   "metadata": {},
   "outputs": [
    {
     "name": "stdout",
     "output_type": "stream",
     "text": [
      "86810\n"
     ]
    }
   ],
   "source": [
    "split_idx = int(0.9 * len(words_list))\n",
    "print(split_idx)"
   ]
  },
  {
   "cell_type": "code",
   "execution_count": 8,
   "id": "c2e80522",
   "metadata": {},
   "outputs": [
    {
     "name": "stdout",
     "output_type": "stream",
     "text": [
      "e04-030-04-08 ok 170 1489 1499 120 39 JJ sure\n",
      " b01-136-01-01 ok 182 511 915 132 91 JJ able\n",
      "\n"
     ]
    }
   ],
   "source": [
    "train_samples = words_list[:split_idx]\n",
    "test_samples = words_list[split_idx:]\n",
    "\n",
    "print(train_samples[0],test_samples[0])"
   ]
  },
  {
   "cell_type": "code",
   "execution_count": 9,
   "id": "45dbb2a9",
   "metadata": {},
   "outputs": [
    {
     "name": "stdout",
     "output_type": "stream",
     "text": [
      "Total training samples: 86810\n",
      "Total validation samples: 4823\n",
      "Total test samples: 4823\n"
     ]
    }
   ],
   "source": [
    "val_split_idx = int(0.5 * len(test_samples))\n",
    "validation_samples = test_samples[:val_split_idx]\n",
    "test_samples = test_samples[val_split_idx:]\n",
    "\n",
    "\n",
    "assert len(words_list) == len(train_samples) + len(validation_samples) + len(\n",
    "    test_samples\n",
    ")\n",
    "\n",
    "print(f\"Total training samples: {len(train_samples)}\")\n",
    "print(f\"Total validation samples: {len(validation_samples)}\")\n",
    "print(f\"Total test samples: {len(test_samples)}\")"
   ]
  },
  {
   "cell_type": "code",
   "execution_count": 10,
   "id": "4fb3052c",
   "metadata": {},
   "outputs": [
    {
     "name": "stdout",
     "output_type": "stream",
     "text": [
      "4823\n"
     ]
    }
   ],
   "source": [
    "print(val_split_idx)"
   ]
  },
  {
   "cell_type": "code",
   "execution_count": 11,
   "id": "7033202d",
   "metadata": {},
   "outputs": [
    {
     "name": "stdout",
     "output_type": "stream",
     "text": [
      "b01-136-01-01 ok 182 511 915 132 91 JJ able\n",
      " g01-067-03-02 ok 152 832 1308 286 82 VBN altered\n",
      "\n"
     ]
    }
   ],
   "source": [
    "print(validation_samples[0],test_samples[0])"
   ]
  },
  {
   "cell_type": "code",
   "execution_count": 12,
   "id": "ced159b3",
   "metadata": {},
   "outputs": [],
   "source": [
    "base_image_path = os.path.join(base_path, \"words\")"
   ]
  },
  {
   "cell_type": "code",
   "execution_count": 13,
   "id": "2724ae94",
   "metadata": {},
   "outputs": [],
   "source": [
    "def get_image_paths_and_labels(samples):\n",
    "    paths = []\n",
    "    corrected_samples = []\n",
    "    for (i, file_line) in enumerate(samples):\n",
    "        line_split = file_line.strip()\n",
    "        #print(line_split)\n",
    "        line_split = line_split.split(\" \")\n",
    "        #print(line_split)\n",
    "\n",
    "        # Each line split will have this format for the corresponding image:\n",
    "        # part1/part1-part2/part1-part2-part3.png\n",
    "        image_name = line_split[0]\n",
    "      #  print(image_name)\n",
    "        partI = image_name.split(\"-\")[0]\n",
    "      #  print(partI)\n",
    "        partII = image_name.split(\"-\")[1]\n",
    "       # print(\"part 2\",partII)\n",
    "        img_path = os.path.join(\n",
    "            base_image_path, partI, partI + \"-\" + partII, image_name + \".png\"\n",
    "        )\n",
    "        if os.path.getsize(img_path):\n",
    "            paths.append(img_path)\n",
    "            corrected_samples.append(file_line.split(\"\\n\")[0])\n",
    "           # print(corrected_samples[0])\n",
    "\n",
    "    return paths, corrected_samples"
   ]
  },
  {
   "cell_type": "code",
   "execution_count": 14,
   "id": "3f49e81d",
   "metadata": {},
   "outputs": [],
   "source": [
    "train_img_paths, train_labels = get_image_paths_and_labels(train_samples)\n",
    "validation_img_paths, validation_labels = get_image_paths_and_labels(validation_samples)\n",
    "test_img_paths, test_labels = get_image_paths_and_labels(test_samples)"
   ]
  },
  {
   "cell_type": "code",
   "execution_count": 15,
   "id": "04af2ea8",
   "metadata": {},
   "outputs": [
    {
     "name": "stdout",
     "output_type": "stream",
     "text": [
      "data/words/e04/e04-030/e04-030-04-08.png e04-030-04-08 ok 170 1489 1499 120 39 JJ sure\n"
     ]
    }
   ],
   "source": [
    "print(train_img_paths[0], train_labels[0])"
   ]
  },
  {
   "cell_type": "code",
   "execution_count": 16,
   "id": "f1e050ab",
   "metadata": {},
   "outputs": [
    {
     "name": "stdout",
     "output_type": "stream",
     "text": [
      "data/words/b01/b01-136/b01-136-01-01.png b01-136-01-01 ok 182 511 915 132 91 JJ able\n"
     ]
    }
   ],
   "source": [
    "print(validation_img_paths[0], validation_labels[0])"
   ]
  },
  {
   "cell_type": "code",
   "execution_count": null,
   "id": "597498aa",
   "metadata": {},
   "outputs": [],
   "source": []
  }
 ],
 "metadata": {
  "kernelspec": {
   "display_name": "leaf_disease",
   "language": "python",
   "name": "leaf_disease"
  },
  "language_info": {
   "codemirror_mode": {
    "name": "ipython",
    "version": 3
   },
   "file_extension": ".py",
   "mimetype": "text/x-python",
   "name": "python",
   "nbconvert_exporter": "python",
   "pygments_lexer": "ipython3",
   "version": "3.7.16"
  }
 },
 "nbformat": 4,
 "nbformat_minor": 5
}
